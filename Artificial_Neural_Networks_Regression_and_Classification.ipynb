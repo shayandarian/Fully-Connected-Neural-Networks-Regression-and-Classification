{
  "nbformat": 4,
  "nbformat_minor": 0,
  "metadata": {
    "colab": {
      "provenance": [],
      "gpuType": "T4",
      "toc_visible": true
    },
    "kernelspec": {
      "name": "python3",
      "display_name": "Python 3"
    },
    "language_info": {
      "name": "python"
    },
    "accelerator": "GPU"
  },
  "cells": [
    {
      "cell_type": "markdown",
      "source": [
        "#CPSC 585 Group Project 1\n",
        "Jeffrey Rhoten, Shayan Darian, Abhinav Singh, Jenny Zhao, Anisha Suresh Mole"
      ],
      "metadata": {
        "id": "dLwDNZr62WS9"
      }
    },
    {
      "cell_type": "markdown",
      "source": [
        "#Linear Regression (Machine Learning)\n",
        "\n",
        "Import libraries"
      ],
      "metadata": {
        "id": "5o-MfqYBDIyH"
      }
    },
    {
      "cell_type": "code",
      "source": [
        "import numpy as np\n",
        "\n",
        "from sklearn import datasets\n",
        "from sklearn.linear_model import LinearRegression\n",
        "from sklearn.datasets import load_diabetes\n",
        "from sklearn.metrics import mean_squared_error, r2_score\n",
        "from sklearn.model_selection import train_test_split\n",
        "\n",
        "import matplotlib.pyplot as plt"
      ],
      "metadata": {
        "id": "E2t1zF3yDO2b"
      },
      "execution_count": null,
      "outputs": []
    },
    {
      "cell_type": "markdown",
      "source": [
        "Import dataset and perform train-test split"
      ],
      "metadata": {
        "id": "Eq7ISqbXtAjW"
      }
    },
    {
      "cell_type": "code",
      "source": [
        "diabetes = load_diabetes()\n",
        "X, y = diabetes.data, diabetes.target\n",
        "\n",
        "# Select features related to body mass index and average blood pressure\n",
        "bmi_idx = diabetes.feature_names.index('bmi')\n",
        "bp_idx = diabetes.feature_names.index('bp')\n",
        "X = X[:, [bmi_idx, bp_idx]]\n",
        "\n",
        "# Split data into training and testing sets\n",
        "X_train, X_test, y_train, y_test = train_test_split(X, y, test_size=0.2, random_state=42)"
      ],
      "metadata": {
        "id": "kroBbULXDU_t"
      },
      "execution_count": null,
      "outputs": []
    },
    {
      "cell_type": "markdown",
      "source": [
        "Perform linear regression (ML version)"
      ],
      "metadata": {
        "id": "7tjjZmmhtSDd"
      }
    },
    {
      "cell_type": "code",
      "source": [
        "# Linear Regression\n",
        "lin_reg = LinearRegression()\n",
        "lin_reg.fit(X_train, y_train)"
      ],
      "metadata": {
        "colab": {
          "base_uri": "https://localhost:8080/",
          "height": 75
        },
        "id": "5LFYP8VotMoC",
        "outputId": "cd7ff9cb-d6b8-4ad3-8e4c-f3358d770cb3"
      },
      "execution_count": null,
      "outputs": [
        {
          "output_type": "execute_result",
          "data": {
            "text/plain": [
              "LinearRegression()"
            ],
            "text/html": [
              "<style>#sk-container-id-1 {color: black;background-color: white;}#sk-container-id-1 pre{padding: 0;}#sk-container-id-1 div.sk-toggleable {background-color: white;}#sk-container-id-1 label.sk-toggleable__label {cursor: pointer;display: block;width: 100%;margin-bottom: 0;padding: 0.3em;box-sizing: border-box;text-align: center;}#sk-container-id-1 label.sk-toggleable__label-arrow:before {content: \"▸\";float: left;margin-right: 0.25em;color: #696969;}#sk-container-id-1 label.sk-toggleable__label-arrow:hover:before {color: black;}#sk-container-id-1 div.sk-estimator:hover label.sk-toggleable__label-arrow:before {color: black;}#sk-container-id-1 div.sk-toggleable__content {max-height: 0;max-width: 0;overflow: hidden;text-align: left;background-color: #f0f8ff;}#sk-container-id-1 div.sk-toggleable__content pre {margin: 0.2em;color: black;border-radius: 0.25em;background-color: #f0f8ff;}#sk-container-id-1 input.sk-toggleable__control:checked~div.sk-toggleable__content {max-height: 200px;max-width: 100%;overflow: auto;}#sk-container-id-1 input.sk-toggleable__control:checked~label.sk-toggleable__label-arrow:before {content: \"▾\";}#sk-container-id-1 div.sk-estimator input.sk-toggleable__control:checked~label.sk-toggleable__label {background-color: #d4ebff;}#sk-container-id-1 div.sk-label input.sk-toggleable__control:checked~label.sk-toggleable__label {background-color: #d4ebff;}#sk-container-id-1 input.sk-hidden--visually {border: 0;clip: rect(1px 1px 1px 1px);clip: rect(1px, 1px, 1px, 1px);height: 1px;margin: -1px;overflow: hidden;padding: 0;position: absolute;width: 1px;}#sk-container-id-1 div.sk-estimator {font-family: monospace;background-color: #f0f8ff;border: 1px dotted black;border-radius: 0.25em;box-sizing: border-box;margin-bottom: 0.5em;}#sk-container-id-1 div.sk-estimator:hover {background-color: #d4ebff;}#sk-container-id-1 div.sk-parallel-item::after {content: \"\";width: 100%;border-bottom: 1px solid gray;flex-grow: 1;}#sk-container-id-1 div.sk-label:hover label.sk-toggleable__label {background-color: #d4ebff;}#sk-container-id-1 div.sk-serial::before {content: \"\";position: absolute;border-left: 1px solid gray;box-sizing: border-box;top: 0;bottom: 0;left: 50%;z-index: 0;}#sk-container-id-1 div.sk-serial {display: flex;flex-direction: column;align-items: center;background-color: white;padding-right: 0.2em;padding-left: 0.2em;position: relative;}#sk-container-id-1 div.sk-item {position: relative;z-index: 1;}#sk-container-id-1 div.sk-parallel {display: flex;align-items: stretch;justify-content: center;background-color: white;position: relative;}#sk-container-id-1 div.sk-item::before, #sk-container-id-1 div.sk-parallel-item::before {content: \"\";position: absolute;border-left: 1px solid gray;box-sizing: border-box;top: 0;bottom: 0;left: 50%;z-index: -1;}#sk-container-id-1 div.sk-parallel-item {display: flex;flex-direction: column;z-index: 1;position: relative;background-color: white;}#sk-container-id-1 div.sk-parallel-item:first-child::after {align-self: flex-end;width: 50%;}#sk-container-id-1 div.sk-parallel-item:last-child::after {align-self: flex-start;width: 50%;}#sk-container-id-1 div.sk-parallel-item:only-child::after {width: 0;}#sk-container-id-1 div.sk-dashed-wrapped {border: 1px dashed gray;margin: 0 0.4em 0.5em 0.4em;box-sizing: border-box;padding-bottom: 0.4em;background-color: white;}#sk-container-id-1 div.sk-label label {font-family: monospace;font-weight: bold;display: inline-block;line-height: 1.2em;}#sk-container-id-1 div.sk-label-container {text-align: center;}#sk-container-id-1 div.sk-container {/* jupyter's `normalize.less` sets `[hidden] { display: none; }` but bootstrap.min.css set `[hidden] { display: none !important; }` so we also need the `!important` here to be able to override the default hidden behavior on the sphinx rendered scikit-learn.org. See: https://github.com/scikit-learn/scikit-learn/issues/21755 */display: inline-block !important;position: relative;}#sk-container-id-1 div.sk-text-repr-fallback {display: none;}</style><div id=\"sk-container-id-1\" class=\"sk-top-container\"><div class=\"sk-text-repr-fallback\"><pre>LinearRegression()</pre><b>In a Jupyter environment, please rerun this cell to show the HTML representation or trust the notebook. <br />On GitHub, the HTML representation is unable to render, please try loading this page with nbviewer.org.</b></div><div class=\"sk-container\" hidden><div class=\"sk-item\"><div class=\"sk-estimator sk-toggleable\"><input class=\"sk-toggleable__control sk-hidden--visually\" id=\"sk-estimator-id-1\" type=\"checkbox\" checked><label for=\"sk-estimator-id-1\" class=\"sk-toggleable__label sk-toggleable__label-arrow\">LinearRegression</label><div class=\"sk-toggleable__content\"><pre>LinearRegression()</pre></div></div></div></div></div>"
            ]
          },
          "metadata": {},
          "execution_count": 3
        }
      ]
    },
    {
      "cell_type": "markdown",
      "source": [
        "Evaluate linear regression ($r^2$)"
      ],
      "metadata": {
        "id": "TPqZzYWNtUdQ"
      }
    },
    {
      "cell_type": "code",
      "source": [
        "# Evaluate linear regression model\n",
        "train_score = lin_reg.score(X_train, y_train)\n",
        "test_score = lin_reg.score(X_test, y_test)\n",
        "print(f\"Linear Regression Training R^2: {train_score:.3f}\")\n",
        "print(f\"Linear Regression Testing R^2: {test_score:.3f}\")"
      ],
      "metadata": {
        "colab": {
          "base_uri": "https://localhost:8080/"
        },
        "id": "NM5dPPiGtLRP",
        "outputId": "0a50b6a3-ac72-4a34-e123-1e0da8cb5f54"
      },
      "execution_count": null,
      "outputs": [
        {
          "output_type": "stream",
          "name": "stdout",
          "text": [
            "Linear Regression Training R^2: 0.416\n",
            "Linear Regression Testing R^2: 0.294\n"
          ]
        }
      ]
    },
    {
      "cell_type": "markdown",
      "source": [
        "Evaluate linear regression (3D plot of data)\n",
        "Graph the data in 3D space to see if $r^2$ value is reasonable"
      ],
      "metadata": {
        "id": "ZsUgG_vQ28cn"
      }
    },
    {
      "cell_type": "code",
      "source": [
        "from mpl_toolkits.mplot3d import Axes3D\n",
        "X1 = X_test[:, 0]\n",
        "X2 = X_test[:, 1]\n",
        "\n",
        "fig = plt.figure()\n",
        "ax = fig.add_subplot(111, projection='3d')\n",
        "ax.scatter(X1, X2, y_test, c='blue', marker='o')\n",
        "#ax.plot(X_train[:, 0], X_train[:, 1], lin_reg.predict(X_train), color = 'black')\n",
        "ax.set_xlabel('bmi')\n",
        "ax.set_ylabel('bp')\n",
        "ax.set_zlabel('y')\n",
        "plt.title('Test set data')\n",
        "plt.show()"
      ],
      "metadata": {
        "colab": {
          "base_uri": "https://localhost:8080/",
          "height": 433
        },
        "id": "omH2ubSfuNae",
        "outputId": "a3c4878b-52bb-4219-9323-774c7b182d46"
      },
      "execution_count": null,
      "outputs": [
        {
          "output_type": "display_data",
          "data": {
            "text/plain": [
              "<Figure size 640x480 with 1 Axes>"
            ],
            "image/png": "[encoded data removed]"
          },
          "metadata": {}
        }
      ]
    },
    {
      "cell_type": "markdown",
      "source": [
        "And considering the wide spread of the data, a testing $R^2$ of 0.294 seems reasonable"
      ],
      "metadata": {
        "id": "yKN4Y2GDtsxO"
      }
    },
    {
      "cell_type": "markdown",
      "source": [
        "#Linear Regression (Multi-Layer Perceptron)"
      ],
      "metadata": {
        "id": "aOLfsp2XbADM"
      }
    },
    {
      "cell_type": "markdown",
      "source": [
        "Import libraries"
      ],
      "metadata": {
        "id": "iHb2lbLsuIvy"
      }
    },
    {
      "cell_type": "code",
      "source": [
        "#Import statements\n",
        "import math\n",
        "import random\n",
        "import matplotlib.pyplot as plt\n",
        "from sklearn.datasets import load_diabetes\n",
        "from sklearn.model_selection import train_test_split"
      ],
      "metadata": {
        "id": "CHqvgykQnn5q"
      },
      "execution_count": null,
      "outputs": []
    },
    {
      "cell_type": "markdown",
      "source": [
        "Helper functions for various mathematical operations"
      ],
      "metadata": {
        "id": "WvqkO88HuQWP"
      }
    },
    {
      "cell_type": "code",
      "source": [
        "#Helper functions\n",
        "\n",
        "# Intitializing weights and biases\n",
        "def initialize_weight(shape, seed=None):\n",
        "    if seed is not None:\n",
        "        random.seed(seed)  # Set seed for reproducibility\n",
        "\n",
        "    # Calculate the variance of the distribution\n",
        "    var = 2 / (shape[0] + shape[1])\n",
        "\n",
        "    # Initialize weights from a normal distribution with zero mean and calculated variance\n",
        "    weights = []\n",
        "    for _ in range(shape[0]):\n",
        "        row = []\n",
        "        for _ in range(shape[1]):\n",
        "            # Generate a random number from a normal distribution with mean=0 and variance=var\n",
        "            rand_num = random.gauss(0, math.sqrt(var))\n",
        "            row.append(rand_num)\n",
        "        weights.append(row)\n",
        "\n",
        "    return weights\n",
        "\n",
        "# Similar method to initialize the bias\n",
        "def initialize_bias(shape, seed=None):\n",
        "    if seed is not None:\n",
        "        random.seed(seed)  # Set seed for reproducibility\n",
        "\n",
        "    # Check if shape is a tuple\n",
        "    if not isinstance(shape, tuple):\n",
        "        raise TypeError(\"Shape must be a tuple.\")\n",
        "\n",
        "    # Check if the shape tuple has exactly one element\n",
        "    if len(shape) != 1:\n",
        "        raise ValueError(\"Shape must be a tuple with exactly one element representing the size of the bias vector.\")\n",
        "\n",
        "    # Generate a list representing a vector with random bias values\n",
        "    bias = [random.uniform(-0.01, 0.01) for _ in range(shape[0])]\n",
        "\n",
        "    return bias\n",
        "\n",
        "# Sigmoid activation function\n",
        "def sigmoid_activation(x):\n",
        "    if isinstance(x, list):\n",
        "        return [1 / (1 + math.exp(-val)) for val in x]\n",
        "    else:\n",
        "        return 1 / (1 + math.exp(-x))\n",
        "\n",
        "# Derivative of sigmoid function (will be used in backpropogation)\n",
        "def sigmoid_derivative(x):\n",
        "    if isinstance(x, list):\n",
        "        return [sigmoid_activation(val) * (1 - sigmoid_activation(val)) for val in x]\n",
        "    else:\n",
        "        return sigmoid_activation(x) * (1 - sigmoid_activation(x))\n",
        "\n",
        "# For Matrix Additions\n",
        "def vector_addition(X, Y):\n",
        "    if len(X) != len(Y):\n",
        "        result = []\n",
        "        for i in range(len(X)):\n",
        "            if len(Y) == 1:\n",
        "                result.append(X[i] + Y[0])\n",
        "            else:\n",
        "                result.append(X[i] + Y[i])\n",
        "        return result\n",
        "\n",
        "# Dot product helper function for the Weights without the use of any libraries\n",
        "def dot(matrix1, matrix2):\n",
        "    if isinstance(matrix2[0], list):\n",
        "        # Matrix multiplication\n",
        "        result = []\n",
        "        for i in range(len(matrix2[0])):\n",
        "            row_result = 0\n",
        "            for j in range(len(matrix1)):\n",
        "                row_result += matrix1[j] * matrix2[j][i]\n",
        "            result.append(row_result)\n",
        "        return result\n",
        "    else:\n",
        "        # Element-wise multiplication\n",
        "        if len(matrix1) != len(matrix2):\n",
        "            raise ValueError(\"Matrices must have the same dimensions for element-wise multiplication\")\n",
        "\n",
        "        result = [matrix1[i] * matrix2[i] for i in range(len(matrix1))]\n",
        "        return result\n",
        "\n",
        "def scalar_dot(matrix1, matrix2):\n",
        "    if isinstance(matrix2[0], list):\n",
        "        # If matrix2 is a list of lists (matrix)\n",
        "        if(len(matrix2[0]) == 1):\n",
        "            result = [[matrix1 * element[0]] for element in matrix2]\n",
        "        else:\n",
        "            result = [[matrix1 * element for element in row] for row in matrix2]\n",
        "    else:\n",
        "        # If matrix2 is a single list (vector)\n",
        "        result = [matrix1 * element for element in matrix2]\n",
        "    return result\n",
        "\n",
        "\n",
        "def element_wise_multiply(matrix1, matrix2):\n",
        "    # Check if the matrices have the same dimensions\n",
        "    if len(matrix1) != len(matrix2):\n",
        "        raise ValueError(\"Matrices must have the same dimensions\")\n",
        "\n",
        "    result = []\n",
        "\n",
        "    # Perform element-wise multiplication\n",
        "    for i in range(len(matrix1)):\n",
        "        row_result = []\n",
        "        row_result = matrix1[i] * matrix2[i]\n",
        "        result.append(row_result)\n",
        "\n",
        "    return result\n",
        "\n",
        "\n",
        "def vector_addition(X, Y):\n",
        "    # Remember to always pass bias as second parameter\n",
        "    # Check if the lengths of both vectors are different\n",
        "    if len(X) != len(Y):\n",
        "        result = []\n",
        "        for i in range(len(X)):\n",
        "            if len(Y) == 1:\n",
        "                result.append(X[i] + Y[0])\n",
        "            else:\n",
        "                result.append(X[i] + Y[i])\n",
        "        return result\n",
        "\n",
        "    # Perform element-wise addition\n",
        "    result = [x + y for x, y in zip(X, Y)]\n",
        "    return result\n",
        "\n",
        "# Helper function for transposing a matrix\n",
        "def transpose(matrix):\n",
        "    # Check if the input is a list of lists or a single list\n",
        "    if isinstance(matrix[0], list):\n",
        "        # Get the number of rows and columns of the original matrix\n",
        "        rows = len(matrix)\n",
        "        cols = len(matrix[0])\n",
        "\n",
        "        # Create a new matrix with dimensions swapped\n",
        "        transposed_matrix = [[0] * rows for _ in range(cols)]\n",
        "\n",
        "        # Iterate over the original matrix and fill the transposed matrix\n",
        "        for i in range(rows):\n",
        "            for j in range(cols):\n",
        "                transposed_matrix[j][i] = matrix[i][j]\n",
        "\n",
        "        return transposed_matrix\n",
        "    else:\n",
        "        # If the input is a single list, return its transpose as a list of lists\n",
        "        return [[val] for val in matrix]\n",
        "\n",
        "# Helper method to calculate mean of a list of values\n",
        "def mean(data):\n",
        "    return sum(data) / len(data)\n",
        "\n",
        "# Helper method to calculate standard deviation of a list of values\n",
        "def std(data):\n",
        "    mu = mean(data)\n",
        "    variance = sum((x - mu) ** 2 for x in data) / len(data)\n",
        "    return math.sqrt(variance)\n",
        "\n",
        "# Helper method to subtract matrices\n",
        "def substract_matrices(matrix1, matrix2):\n",
        "    if len(matrix1) != len(matrix2):\n",
        "      raise ValueError(\"Matrices must have the same dimensions for element-wise multiplication\")\n",
        "    else:\n",
        "      for i in range(len(matrix1)):\n",
        "        if isinstance(matrix2[0], list):\n",
        "          for j in range(len(matrix1[0])):\n",
        "            matrix1[i][j] -= matrix2[i][j]\n",
        "        else:\n",
        "          matrix1[i] -= matrix2[i]\n",
        "    return matrix1"
      ],
      "metadata": {
        "id": "CCqFS_kEoITC"
      },
      "execution_count": null,
      "outputs": []
    },
    {
      "cell_type": "markdown",
      "source": [
        "Data processing functions"
      ],
      "metadata": {
        "id": "Kq6Ql2zNu7a2"
      }
    },
    {
      "cell_type": "code",
      "source": [
        "\n",
        "# Split the data into training and test sets\n",
        "def train_test_split(X, y, test_size=0.2, random_state=None):\n",
        "    if random_state:\n",
        "        random.seed(random_state)\n",
        "\n",
        "    # Combining X and y for shuffling\n",
        "    data = list(zip(X, y))\n",
        "    random.shuffle(data)\n",
        "\n",
        "    num_test_samples = int(test_size * len(data))\n",
        "\n",
        "    # Splitting data into training and test sets\n",
        "    X_train = [sample[0] for sample in data[num_test_samples:]]\n",
        "    y_train = [sample[1] for sample in data[num_test_samples:]]\n",
        "    X_test = [sample[0] for sample in data[:num_test_samples]]\n",
        "    y_test = [sample[1] for sample in data[:num_test_samples]]\n",
        "\n",
        "    return X_train, X_test, y_train, y_test\n",
        "\n",
        "# Normalize the data\n",
        "def normalize_data(data):\n",
        "    mu = mean(data)\n",
        "    sigma = std(data)\n",
        "    return [(x - mu) / sigma for x in data]"
      ],
      "metadata": {
        "id": "q9HH2vBduuQT"
      },
      "execution_count": null,
      "outputs": []
    },
    {
      "cell_type": "markdown",
      "source": [
        "Neural Network related functions"
      ],
      "metadata": {
        "id": "ectYYjsgvNBx"
      }
    },
    {
      "cell_type": "code",
      "source": [
        "# Mean Squared Error loss function\n",
        "def mse_loss(y_true, y_pred):\n",
        "    return (y_true - y_pred) ** 2\n",
        "\n",
        "# Derivate of the MSE function (will be used in backpropogation)\n",
        "def mse_derivative(y_true, y_pred):\n",
        "    return 2 * (y_pred - y_true)\n",
        "\n",
        "#Forward propogation\n",
        "def forward_propagation(X, W1, b1, W2, b2, W3, b3):\n",
        "    z1_weightedSum = dot(X, W1)\n",
        "    z1 = vector_addition(z1_weightedSum, b1)\n",
        "    a1 = sigmoid_activation(z1)\n",
        "    z2_weightedSum = dot(a1, W2)\n",
        "    z2 = vector_addition(z2_weightedSum, b2)\n",
        "    a2 = sigmoid_activation(z2)\n",
        "    z3_weightedSum = dot(a2, W3)\n",
        "    z3 = vector_addition(z3_weightedSum, b3)\n",
        "    y_pred = z3\n",
        "    cache = (z1, a1, z2, a2)\n",
        "    return y_pred, cache\n",
        "\n",
        "#Backpropogation\n",
        "def backward_propagation(X, y, y_pred, W1, W2, W3, b1, b2, b3, z1, a1, z2, a2):\n",
        "    # Computing the gradient of the loss with respect to the output layer weighted sum (z3) which is basically y_pred\n",
        "    dL_dz3 = mse_derivative(y, y_pred)\n",
        "\n",
        "    # Computing the gradient of the loss with respect to the output layer weights(W3)\n",
        "    dL_dW3 = scalar_dot(dL_dz3, transpose(a2))\n",
        "\n",
        "    # Computing the gradient of the loss with respect to the output layer bias(b3)\n",
        "    dL_db3 = [dL_dz3]\n",
        "\n",
        "    # Computing the gradient of the loss with respect to the second hidden layer weighted sum(z2)\n",
        "    dL_dz2 = element_wise_multiply(scalar_dot(dL_dz3, transpose(W3))[0], sigmoid_derivative(z2))\n",
        "\n",
        "    # Computing the gradient of the loss with respect to the second hidden layer weights(W2)\n",
        "    dL_dW2 = [[dL_dz2[j] * a1[i] for i in range(len(a1))] for j in range(len(dL_dz2))]\n",
        "    dL_db2 = dL_dz2\n",
        "\n",
        "    # Calculating the gradient of A1 wrt the loss, using dZ2 and W2\n",
        "    dA1_dL = [sum(dL_dz2[j] * W2[j][i] for j in range(len(dL_dz2))) for i in range(len(a1))]\n",
        "\n",
        "    # Calculating dZ1 using sigmoid_derivative directly with Z1\n",
        "    dL_dz2 = [da1_dl * sigmoid_derivative(z1_val) for da1_dl, z1_val in zip(dA1_dL, z1)]\n",
        "\n",
        "    # Computing the gradient of the loss with respect to the first hidden layer weights(W1)\n",
        "    dL_dW1 = [[dL_dz2[j] * X[i] for i in range(len(X))] for j in range(len(dL_dz2))]\n",
        "\n",
        "    # Computing the gradient of the loss with respect to the first hidden layer bias(b1)\n",
        "    dL_db1 = dL_dz2\n",
        "\n",
        "    return dL_dW1, dL_dW2, dL_dW3, dL_db1, dL_db2, dL_db3\n",
        "\n",
        "# Updating weight and biases\n",
        "def update_weights_and_biases(new_W1, new_W2, new_W3, new_b1, new_b2, new_b3, learning_rate):\n",
        "    global W1, W2, W3, b1, b2, b3\n",
        "    new_W1 = scalar_dot(learning_rate, new_W1)\n",
        "    new_W2 = scalar_dot(learning_rate, new_W2)\n",
        "    new_W3 = scalar_dot(learning_rate, new_W3)\n",
        "    new_b1 = scalar_dot(learning_rate, new_b1)\n",
        "    new_b2 = scalar_dot(learning_rate, new_b2)\n",
        "    new_b3 = scalar_dot(learning_rate, new_b3)\n",
        "    W1 = substract_matrices(W1, new_W1)\n",
        "    W2 = substract_matrices(W2, new_W1)\n",
        "    W3 = substract_matrices(W3, new_W1)\n",
        "    b1 = substract_matrices(b1, new_b1)\n",
        "    b2 = substract_matrices(b2, new_b2)\n",
        "    b3 = substract_matrices(b3, new_b3)\n",
        "\n",
        "# Helper method to calculate the accuracy\n",
        "def calculate_accuracy(model_prediction, actual_result):\n",
        "    sum = 0\n",
        "    for i in range(len(model_prediction)):\n",
        "      difference = abs(actual_result[i] - model_prediction[i])\n",
        "      if(difference <= 30): # Difference that is acceptable (we can change it)\n",
        "         sum += 1\n",
        "    return (sum/len(actual_result)) * 100"
      ],
      "metadata": {
        "id": "eBTTWb5AvJjt"
      },
      "execution_count": null,
      "outputs": []
    },
    {
      "cell_type": "markdown",
      "source": [
        "Import and process data"
      ],
      "metadata": {
        "id": "VoiVSHUFvfaJ"
      }
    },
    {
      "cell_type": "code",
      "source": [
        "# Setting up data for our epochs\n",
        "\n",
        "diabetes = load_diabetes()\n",
        "bmi_idx = diabetes.feature_names.index('bmi')\n",
        "bp_idx = diabetes.feature_names.index('bp')\n",
        "target_numpy = diabetes.target\n",
        "y = target_numpy.tolist()\n",
        "\n",
        "X_numpy =  diabetes.data[:, [bmi_idx, bp_idx]]\n",
        "X = X_numpy.tolist()\n",
        "\n",
        "# Splitting data into train and test data\n",
        "X_train, X_test, y_train, y_test = train_test_split(X, y, test_size=0.2, random_state=42)\n",
        "\n",
        "# Normalize data\n",
        "#X_train = [normalize_data(sample) for sample in X_train]\n",
        "#X_test = [normalize_data(sample) for sample in X_test]"
      ],
      "metadata": {
        "id": "YxhULmf0oK6M"
      },
      "execution_count": null,
      "outputs": []
    },
    {
      "cell_type": "markdown",
      "source": [
        "Set parameters for Neural Network"
      ],
      "metadata": {
        "id": "1pjO3cnlvqx5"
      }
    },
    {
      "cell_type": "code",
      "source": [
        "\n",
        "# Defining the shapes for weights and biases\n",
        "input_size = 2\n",
        "hidden_size1 = 2\n",
        "hidden_size2 = 2\n",
        "output_size = 1\n",
        "\n",
        "# Initializing weights and biases\n",
        "W1 = initialize_weight((input_size, hidden_size1))\n",
        "b1 = initialize_bias((hidden_size1,))\n",
        "W2 = initialize_weight((hidden_size1, hidden_size2))\n",
        "b2 = initialize_bias((hidden_size2,))\n",
        "W3 = initialize_weight((hidden_size2, output_size))\n",
        "b3 = initialize_bias((output_size,))\n",
        "\n",
        "learning_rate = 0.00005"
      ],
      "metadata": {
        "id": "VR5E7W7fvpaI"
      },
      "execution_count": null,
      "outputs": []
    },
    {
      "cell_type": "markdown",
      "source": [
        "Define and run epochs\n",
        "\n",
        "Train neural network"
      ],
      "metadata": {
        "id": "pf2N-gs8v6Fr"
      }
    },
    {
      "cell_type": "code",
      "source": [
        "epochs = 100\n",
        "\n",
        "train_losses = []\n",
        "test_losses = []\n",
        "training_accuracy = []\n",
        "\n",
        "for epoch in range(epochs):\n",
        "    epoch_train_loss = 0.0\n",
        "    epoch_test_loss = 0.0\n",
        "    curr_epoch_prediction = []\n",
        "    # Using stochastic gradient descent to train the model\n",
        "    for i in range(len(X_train)):\n",
        "      y_pred, cache = forward_propagation(X_train[i], W1, b1, W2, b2, W3, b3) #y_pred is the actual predicted value from the model\n",
        "      z1, a1, z2, a2 = cache\n",
        "      curr_epoch_prediction.append(y_pred[0])\n",
        "\n",
        "      # Summing up total loss for a single epoch\n",
        "      iteration_loss = mse_loss(y_train[i], y_pred[0])\n",
        "      epoch_train_loss += iteration_loss\n",
        "\n",
        "      # Running backpropogation to get the gradients for the weights and biases\n",
        "      new_W1, new_W2, new_W3, new_b1, new_b2, new_b3 = backward_propagation(X_train[i], y_train[i], y_pred[0], W1, W2, W3, b1, b2, b3, z1, a1, z2, a2)\n",
        "      # Passing the gradients and learning rate to this helper methods to update the weights and biases\n",
        "      update_weights_and_biases(new_W1, new_W2, new_W3, new_b1, new_b2, new_b3,learning_rate)\n",
        "\n",
        "\n",
        "    for i in range(len(X_test)):\n",
        "      y_pred, cache = forward_propagation(X_test[i], W1, b1, W2, b2, W3, b3) #y_pred is the actual predicted value from the model\n",
        "      z1, a1, z2, a2 = cache\n",
        "\n",
        "      # Summing up total loss for a single epoch\n",
        "      iteration_loss = mse_loss(y_test[i], y_pred[0])\n",
        "      epoch_test_loss += iteration_loss\n",
        "\n",
        "    epoch_test_loss /= len(X_test)\n",
        "    epoch_train_loss /= len(X_train)\n",
        "    train_losses.append(epoch_train_loss)\n",
        "    test_losses.append(epoch_test_loss)\n",
        "    training_accuracy.append(calculate_accuracy(curr_epoch_prediction, y_train)/100)\n",
        "    #print(f\"Epoch {epoch+1}/{epochs}, Epoch Loss: {epoch_loss}\")"
      ],
      "metadata": {
        "id": "pDS7uUPGv46M"
      },
      "execution_count": null,
      "outputs": []
    },
    {
      "cell_type": "markdown",
      "source": [
        "Calculate accuracy"
      ],
      "metadata": {
        "id": "iW7lYt7ewKMP"
      }
    },
    {
      "cell_type": "code",
      "source": [
        "# Running the test data on our trained model\n",
        "test_result = []\n",
        "for i in range(len(X_test)):\n",
        "  y_pred, cache = forward_propagation(X_test[i], W1, b1, W2, b2, W3, b3)\n",
        "  test_result.append(y_pred[0])\n",
        "\n",
        "# For getting the accuracy of training data\n",
        "train_result = []\n",
        "for i in range(len(X_train)):\n",
        "  y_pred, cache = forward_propagation(X_train[i], W1, b1, W2, b2, W3, b3)\n",
        "  train_result.append(y_pred[0])\n",
        "\n",
        "# Getting the actual accuracy of model on both train and test data in percentage\n",
        "train_accuracy = calculate_accuracy(train_result, y_train)\n",
        "test_accuracy = calculate_accuracy(test_result, y_test)\n",
        "\n",
        "print(f\"Train Accuracy - {round(train_accuracy,2)}%\")\n",
        "print(f\"Test Accuracy - {round(test_accuracy,2)}%\")\n",
        "print(f\"Epochs Average Loss List - {train_losses}\")\n",
        "print(f\"Epochs Average Loss List - {test_losses}\")"
      ],
      "metadata": {
        "id": "atsyjxEQwJWB",
        "colab": {
          "base_uri": "https://localhost:8080/"
        },
        "outputId": "66a1f4a2-8cc5-48de-8189-ba82fee1bae5"
      },
      "execution_count": null,
      "outputs": [
        {
          "output_type": "stream",
          "name": "stdout",
          "text": [
            "Train Accuracy - 22.88%\n",
            "Test Accuracy - 25.0%\n",
            "Epochs Average Loss List - [28728.379122933577, 27149.876708930602, 25685.462484560303, 24324.62342801505, 23058.66543650409, 21880.286995703864, 20783.0832511937, 19761.278912578044, 18809.58988372503, 17923.144532183465, 17097.433004135084, 16328.27067509557, 15611.76938842671, 14944.313417154457, 14322.538574216544, 13743.313607165477, 13203.723370313428, 12701.053455627116, 12232.776067937608, 11796.536990570325, 11390.143524386609, 11011.553306829066, 10658.863933428369, 10330.303315431163, 10024.220715497931, 9739.078409825695, 9473.443930191694, 9225.982843677299, 8995.452031458537, 8780.693431201922, 8580.628210389043, 8394.251340382336, 8220.626543292468, 8058.881585751755, 7908.2038955661, 7767.836478933517, 7637.074117497108, 7515.25982595862, 7401.781552327068, 7296.069104127147, 7197.591285049551, 7105.853227601066, 7020.393908310331, 6940.783832973258, 6866.622880284547, 6797.538293003819, 6733.182806551075, 6673.232905620765, 6617.387200049496, 6565.36491177423, 6516.904465277668, 6471.762174438532, 6429.711019190303, 6390.539505843414, 6354.050605347483, 6320.0607641612805, 6288.398982764028, 6258.905957181124, 6231.433279214259, 6205.84269136079, 6182.005392682198, 6159.801392136993, 6139.118906132355, 6119.853797270221, 6101.909051471216, 6085.194290851512, 6069.62531990834, 6055.123702735912, 6041.616369150476, 6029.035247747293, 6017.31692404829, 6006.402322024609, 5996.236407395814, 5986.767911216784, 5977.9490723651015, 5969.735397636542, 5962.0854382448815, 5954.960581604233, 5948.3248573490855, 5942.144756618511, 5936.3890636975975, 5931.028699171332, 5926.036573803579, 5921.387452408062, 5917.057827027954, 5913.0257987877985, 5909.270967824692, 5905.774330746339, 5902.518185101325, 5899.486040382225, 5896.662535114808, 5894.033359617166, 5891.585184041179, 5889.3055913351345, 5887.18301479085, 5885.2066798620845, 5883.366549961996, 5881.653275967623, 5880.058149177919, 5878.573057489254]\n",
            "Epochs Average Loss List - [25168.39281981043, 23758.707646732637, 22453.4120793193, 21243.197937802404, 20120.386084520465, 19078.35177360467, 18111.17866069432, 17213.482297678143, 16380.314144238322, 15607.102710684178, 14889.612811012037, 14223.914425840683, 13606.357175763898, 13033.548404567155, 12502.333804479977, 12009.779973766605, 11553.158533581043, 11129.931559356162, 10737.73815505122, 10374.382042230813, 10037.820063342035, 9726.151516633545, 9437.608252700185, 9170.545471769134, 8923.433167803127, 8694.848171017547, 8483.466744942793, 8288.057697994578, 8107.4759728250965, 7940.656679640241, 7786.609542264134, 7644.413728070132, 7513.21303502082, 7392.2114109972, 7280.668782375623, 7177.897170446639, 7083.257075780301, 6996.154112037219, 6916.035872017936, 6842.3890099405435, 6774.736525048347, 6712.635232681758, 6655.673409907211, 6603.468603687777, 6555.665590408946, 6511.934476343982, 6471.968929360777, 6435.484532839596, 6402.2172533924195, 6371.922014552871, 6344.3713691440735, 6319.354263533105, 6296.674887447231, 6276.151603461817, 6257.615950674363, 6240.911717455877, 6225.894078521907, 6212.428791892086, 6200.3914516116165, 6189.666792391522, 6180.148042588302, 6171.736322189917, 6164.340082703507, 6157.87458605392, 6152.261419800715, 6147.428046166097, 6143.30738253888, 6139.837411279839, 6136.960816803465, 6134.624648050241, 6132.780004593406, 6131.381744744743, 6130.38821413668, 6129.760993362549, 6129.464663354616, 6129.466587270276, 6129.736707741474, 6130.247358421388, 6130.973088835661, 6131.890501614006, 6132.97810124161, 6134.216153529176, 6135.586555055677, 6137.072711889214, 6138.659426939551, 6140.332795340314, 6142.080107300467, 6143.889757903473, 6145.751163368433, 6147.654683321223, 6149.591548654825, 6151.553794587174, 6153.534198551954, 6155.526222583051, 6157.523959876801, 6159.5220852382035, 6161.515809137429, 6163.500835122192, 6165.473320349019, 6167.429839013039]\n"
          ]
        }
      ]
    },
    {
      "cell_type": "markdown",
      "source": [
        "Plot loss across epochs"
      ],
      "metadata": {
        "id": "ewGTcCG3wPc8"
      }
    },
    {
      "cell_type": "code",
      "source": [
        "#Plot training loss\n",
        "plt.plot(range(epochs), train_losses)\n",
        "plt.title(\"Training Loss\")\n",
        "plt.ylabel(\"loss\")\n",
        "plt.xlabel(\"epoch\")"
      ],
      "metadata": {
        "colab": {
          "base_uri": "https://localhost:8080/",
          "height": 489
        },
        "id": "ODoQG6G8nJz1",
        "outputId": "1e8a9239-0e1b-4a4d-d42d-cf3e9d9dfad7"
      },
      "execution_count": null,
      "outputs": [
        {
          "output_type": "execute_result",
          "data": {
            "text/plain": [
              "Text(0.5, 0, 'epoch')"
            ]
          },
          "metadata": {},
          "execution_count": 14
        },
        {
          "output_type": "display_data",
          "data": {
            "text/plain": [
              "<Figure size 640x480 with 1 Axes>"
            ],
            "image/png": "[encoded data removed]"
          },
          "metadata": {}
        }
      ]
    },
    {
      "cell_type": "code",
      "source": [
        "#Plot test loss\n",
        "plt.plot(range(epochs), test_losses)\n",
        "plt.title(\"Test Loss\")\n",
        "plt.ylabel(\"loss\")\n",
        "plt.xlabel(\"epoch\")"
      ],
      "metadata": {
        "colab": {
          "base_uri": "https://localhost:8080/",
          "height": 489
        },
        "id": "-B7aNQ4urvmL",
        "outputId": "d966e325-7b17-4f35-ef55-1d5614feb6af"
      },
      "execution_count": null,
      "outputs": [
        {
          "output_type": "execute_result",
          "data": {
            "text/plain": [
              "Text(0.5, 0, 'epoch')"
            ]
          },
          "metadata": {},
          "execution_count": 15
        },
        {
          "output_type": "display_data",
          "data": {
            "text/plain": [
              "<Figure size 640x480 with 1 Axes>"
            ],
            "image/png": "[encoded data removed]"
          },
          "metadata": {}
        }
      ]
    },
    {
      "cell_type": "markdown",
      "source": [
        "#Classification"
      ],
      "metadata": {
        "id": "NcLKNEbiDMyM"
      }
    },
    {
      "cell_type": "markdown",
      "source": [
        "Necessary installs & library imports"
      ],
      "metadata": {
        "id": "vCqQ7u3kNUYO"
      }
    },
    {
      "cell_type": "code",
      "source": [
        "!pip3 install torch torchvision torchaudio --index-url https://download.pytorch.org/whl/cu118\n"
      ],
      "metadata": {
        "id": "dFjlG_cM4L6G",
        "colab": {
          "base_uri": "https://localhost:8080/"
        },
        "outputId": "f404f917-00bc-4365-e7b0-6c2df0a8dc02"
      },
      "execution_count": null,
      "outputs": [
        {
          "output_type": "stream",
          "name": "stdout",
          "text": [
            "Looking in indexes: https://download.pytorch.org/whl/cu118\n",
            "Requirement already satisfied: torch in /usr/local/lib/python3.10/dist-packages (2.2.1+cu121)\n",
            "Requirement already satisfied: torchvision in /usr/local/lib/python3.10/dist-packages (0.17.1+cu121)\n",
            "Requirement already satisfied: torchaudio in /usr/local/lib/python3.10/dist-packages (2.2.1+cu121)\n",
            "Requirement already satisfied: filelock in /usr/local/lib/python3.10/dist-packages (from torch) (3.13.1)\n",
            "Requirement already satisfied: typing-extensions>=4.8.0 in /usr/local/lib/python3.10/dist-packages (from torch) (4.10.0)\n",
            "Requirement already satisfied: sympy in /usr/local/lib/python3.10/dist-packages (from torch) (1.12)\n",
            "Requirement already satisfied: networkx in /usr/local/lib/python3.10/dist-packages (from torch) (3.2.1)\n",
            "Requirement already satisfied: jinja2 in /usr/local/lib/python3.10/dist-packages (from torch) (3.1.3)\n",
            "Requirement already satisfied: fsspec in /usr/local/lib/python3.10/dist-packages (from torch) (2023.6.0)\n",
            "INFO: pip is looking at multiple versions of torch to determine which version is compatible with other requirements. This could take a while.\n",
            "Collecting torch\n",
            "  Downloading https://download.pytorch.org/whl/cu118/torch-2.2.1%2Bcu118-cp310-cp310-linux_x86_64.whl (819.2 MB)\n",
            "\u001b[2K     \u001b[90m━━━━━━━━━━━━━━━━━━━━━━━━━━━━━━━━━━━━━━━━\u001b[0m \u001b[32m819.2/819.2 MB\u001b[0m \u001b[31m2.1 MB/s\u001b[0m eta \u001b[36m0:00:00\u001b[0m\n",
            "\u001b[?25hCollecting nvidia-cuda-nvrtc-cu11==11.8.89 (from torch)\n",
            "  Downloading https://download.pytorch.org/whl/cu118/nvidia_cuda_nvrtc_cu11-11.8.89-py3-none-manylinux1_x86_64.whl (23.2 MB)\n",
            "\u001b[2K     \u001b[90m━━━━━━━━━━━━━━━━━━━━━━━━━━━━━━━━━━━━━━━━\u001b[0m \u001b[32m23.2/23.2 MB\u001b[0m \u001b[31m64.7 MB/s\u001b[0m eta \u001b[36m0:00:00\u001b[0m\n",
            "\u001b[?25hCollecting nvidia-cuda-runtime-cu11==11.8.89 (from torch)\n",
            "  Downloading https://download.pytorch.org/whl/cu118/nvidia_cuda_runtime_cu11-11.8.89-py3-none-manylinux1_x86_64.whl (875 kB)\n",
            "\u001b[2K     \u001b[90m━━━━━━━━━━━━━━━━━━━━━━━━━━━━━━━━━━━━━━━━\u001b[0m \u001b[32m875.6/875.6 kB\u001b[0m \u001b[31m70.0 MB/s\u001b[0m eta \u001b[36m0:00:00\u001b[0m\n",
            "\u001b[?25hCollecting nvidia-cuda-cupti-cu11==11.8.87 (from torch)\n",
            "  Downloading https://download.pytorch.org/whl/cu118/nvidia_cuda_cupti_cu11-11.8.87-py3-none-manylinux1_x86_64.whl (13.1 MB)\n",
            "\u001b[2K     \u001b[90m━━━━━━━━━━━━━━━━━━━━━━━━━━━━━━━━━━━━━━━━\u001b[0m \u001b[32m13.1/13.1 MB\u001b[0m \u001b[31m93.4 MB/s\u001b[0m eta \u001b[36m0:00:00\u001b[0m\n",
            "\u001b[?25hCollecting nvidia-cudnn-cu11==8.7.0.84 (from torch)\n",
            "  Downloading https://download.pytorch.org/whl/cu118/nvidia_cudnn_cu11-8.7.0.84-py3-none-manylinux1_x86_64.whl (728.5 MB)\n",
            "\u001b[2K     \u001b[90m━━━━━━━━━━━━━━━━━━━━━━━━━━━━━━━━━━━━━━━━\u001b[0m \u001b[32m728.5/728.5 MB\u001b[0m \u001b[31m2.3 MB/s\u001b[0m eta \u001b[36m0:00:00\u001b[0m\n",
            "\u001b[?25hCollecting nvidia-cublas-cu11==11.11.3.6 (from torch)\n",
            "  Downloading https://download.pytorch.org/whl/cu118/nvidia_cublas_cu11-11.11.3.6-py3-none-manylinux1_x86_64.whl (417.9 MB)\n",
            "\u001b[2K     \u001b[90m━━━━━━━━━━━━━━━━━━━━━━━━━━━━━━━━━━━━━━━━\u001b[0m \u001b[32m417.9/417.9 MB\u001b[0m \u001b[31m3.8 MB/s\u001b[0m eta \u001b[36m0:00:00\u001b[0m\n",
            "\u001b[?25hCollecting nvidia-cufft-cu11==10.9.0.58 (from torch)\n",
            "  Downloading https://download.pytorch.org/whl/cu118/nvidia_cufft_cu11-10.9.0.58-py3-none-manylinux1_x86_64.whl (168.4 MB)\n",
            "\u001b[2K     \u001b[90m━━━━━━━━━━━━━━━━━━━━━━━━━━━━━━━━━━━━━━━━\u001b[0m \u001b[32m168.4/168.4 MB\u001b[0m \u001b[31m7.1 MB/s\u001b[0m eta \u001b[36m0:00:00\u001b[0m\n",
            "\u001b[?25hCollecting nvidia-curand-cu11==10.3.0.86 (from torch)\n",
            "  Downloading https://download.pytorch.org/whl/cu118/nvidia_curand_cu11-10.3.0.86-py3-none-manylinux1_x86_64.whl (58.1 MB)\n",
            "\u001b[2K     \u001b[90m━━━━━━━━━━━━━━━━━━━━━━━━━━━━━━━━━━━━━━━━\u001b[0m \u001b[32m58.1/58.1 MB\u001b[0m \u001b[31m11.1 MB/s\u001b[0m eta \u001b[36m0:00:00\u001b[0m\n",
            "\u001b[?25hCollecting nvidia-cusolver-cu11==11.4.1.48 (from torch)\n",
            "  Downloading https://download.pytorch.org/whl/cu118/nvidia_cusolver_cu11-11.4.1.48-py3-none-manylinux1_x86_64.whl (128.2 MB)\n",
            "\u001b[2K     \u001b[90m━━━━━━━━━━━━━━━━━━━━━━━━━━━━━━━━━━━━━━━━\u001b[0m \u001b[32m128.2/128.2 MB\u001b[0m \u001b[31m8.3 MB/s\u001b[0m eta \u001b[36m0:00:00\u001b[0m\n",
            "\u001b[?25hCollecting nvidia-cusparse-cu11==11.7.5.86 (from torch)\n",
            "  Downloading https://download.pytorch.org/whl/cu118/nvidia_cusparse_cu11-11.7.5.86-py3-none-manylinux1_x86_64.whl (204.1 MB)\n",
            "\u001b[2K     \u001b[90m━━━━━━━━━━━━━━━━━━━━━━━━━━━━━━━━━━━━━━━━\u001b[0m \u001b[32m204.1/204.1 MB\u001b[0m \u001b[31m2.7 MB/s\u001b[0m eta \u001b[36m0:00:00\u001b[0m\n",
            "\u001b[?25hCollecting nvidia-nccl-cu11==2.19.3 (from torch)\n",
            "  Downloading https://download.pytorch.org/whl/cu118/nvidia_nccl_cu11-2.19.3-py3-none-manylinux1_x86_64.whl (135.3 MB)\n",
            "\u001b[2K     \u001b[90m━━━━━━━━━━━━━━━━━━━━━━━━━━━━━━━━━━━━━━━━\u001b[0m \u001b[32m135.3/135.3 MB\u001b[0m \u001b[31m8.0 MB/s\u001b[0m eta \u001b[36m0:00:00\u001b[0m\n",
            "\u001b[?25hCollecting nvidia-nvtx-cu11==11.8.86 (from torch)\n",
            "  Downloading https://download.pytorch.org/whl/cu118/nvidia_nvtx_cu11-11.8.86-py3-none-manylinux1_x86_64.whl (99 kB)\n",
            "\u001b[2K     \u001b[90m━━━━━━━━━━━━━━━━━━━━━━━━━━━━━━━━━━━━━━━━\u001b[0m \u001b[32m99.1/99.1 kB\u001b[0m \u001b[31m15.1 MB/s\u001b[0m eta \u001b[36m0:00:00\u001b[0m\n",
            "\u001b[?25hRequirement already satisfied: triton==2.2.0 in /usr/local/lib/python3.10/dist-packages (from torch) (2.2.0)\n",
            "Requirement already satisfied: numpy in /usr/local/lib/python3.10/dist-packages (from torchvision) (1.25.2)\n",
            "Requirement already satisfied: pillow!=8.3.*,>=5.3.0 in /usr/local/lib/python3.10/dist-packages (from torchvision) (9.4.0)\n",
            "Requirement already satisfied: MarkupSafe>=2.0 in /usr/local/lib/python3.10/dist-packages (from jinja2->torch) (2.1.5)\n",
            "Requirement already satisfied: mpmath>=0.19 in /usr/local/lib/python3.10/dist-packages (from sympy->torch) (1.3.0)\n",
            "Installing collected packages: nvidia-nvtx-cu11, nvidia-nccl-cu11, nvidia-cusparse-cu11, nvidia-curand-cu11, nvidia-cufft-cu11, nvidia-cuda-runtime-cu11, nvidia-cuda-nvrtc-cu11, nvidia-cuda-cupti-cu11, nvidia-cublas-cu11, nvidia-cusolver-cu11, nvidia-cudnn-cu11, torch\n",
            "  Attempting uninstall: torch\n",
            "    Found existing installation: torch 2.2.1+cu121\n",
            "    Uninstalling torch-2.2.1+cu121:\n",
            "      Successfully uninstalled torch-2.2.1+cu121\n",
            "Successfully installed nvidia-cublas-cu11-11.11.3.6 nvidia-cuda-cupti-cu11-11.8.87 nvidia-cuda-nvrtc-cu11-11.8.89 nvidia-cuda-runtime-cu11-11.8.89 nvidia-cudnn-cu11-8.7.0.84 nvidia-cufft-cu11-10.9.0.58 nvidia-curand-cu11-10.3.0.86 nvidia-cusolver-cu11-11.4.1.48 nvidia-cusparse-cu11-11.7.5.86 nvidia-nccl-cu11-2.19.3 nvidia-nvtx-cu11-11.8.86 torch-2.2.1+cu118\n"
          ]
        }
      ]
    },
    {
      "cell_type": "code",
      "source": [
        "# Install\n",
        "!pip install dotdict\n",
        "!pip install ucimlrepo"
      ],
      "metadata": {
        "colab": {
          "base_uri": "https://localhost:8080/"
        },
        "id": "ZO5B_OsEyG6q",
        "outputId": "ee1c18e9-b1a2-435c-fc80-c9bbf8b13361"
      },
      "execution_count": null,
      "outputs": [
        {
          "output_type": "stream",
          "name": "stdout",
          "text": [
            "Collecting dotdict\n",
            "  Downloading dotdict-0.1.tar.gz (1.0 kB)\n",
            "  Preparing metadata (setup.py) ... \u001b[?25l\u001b[?25hdone\n",
            "Building wheels for collected packages: dotdict\n",
            "  Building wheel for dotdict (setup.py) ... \u001b[?25l\u001b[?25hdone\n",
            "  Created wheel for dotdict: filename=dotdict-0.1-py3-none-any.whl size=1624 sha256=e63a6cf988b6cc7438c157c767b64062e9c9bd3af851d1e7663c7ef5cc629678\n",
            "  Stored in directory: /root/.cache/pip/wheels/66/a8/a1/56f81e629a2bb4b514c0ff9624a3e9931d74d27fe35aedfbac\n",
            "Successfully built dotdict\n",
            "Installing collected packages: dotdict\n",
            "Successfully installed dotdict-0.1\n",
            "Collecting ucimlrepo\n",
            "  Downloading ucimlrepo-0.0.6-py3-none-any.whl (8.0 kB)\n",
            "Installing collected packages: ucimlrepo\n",
            "Successfully installed ucimlrepo-0.0.6\n"
          ]
        }
      ]
    },
    {
      "cell_type": "code",
      "source": [
        "# Import\n",
        "import torch\n",
        "import torch.nn as nn\n",
        "import torch.nn.functional as F\n",
        "\n",
        "import pandas as pd\n",
        "import numpy as np\n",
        "import matplotlib.pyplot as plt\n",
        "\n",
        "from sklearn.model_selection import train_test_split\n",
        "\n",
        "from ucimlrepo import fetch_ucirepo"
      ],
      "metadata": {
        "id": "F3I8FuONZY5K"
      },
      "execution_count": null,
      "outputs": []
    },
    {
      "cell_type": "markdown",
      "source": [
        "Define Neural Network\n",
        "\n",
        "Structure:\n",
        "9 hidden layers, fully connected, 50 nodes each, ReLU activation\n",
        "\n",
        "\n",
        "> Additional code remains to document alternative testing strategies, such as increased depth (resulted in overfitting), batch normalization, and dropout, which didn't show significant improvements over baseline. Several optimizations attempted, including setting less and more hidden layers, adjusting node counts, setting different learning rates, epochs, etc.\n",
        "\n"
      ],
      "metadata": {
        "id": "OXlpn-qhOEZx"
      }
    },
    {
      "cell_type": "code",
      "source": [
        "# Create model class for nn\n",
        "\n",
        "nc = 50   # node count\n",
        "\n",
        "class Model(nn.Module):\n",
        "  def __init__(self,  in_features=34,\n",
        "               h1=nc, h2=nc, h3=nc, h4=nc, h5=nc,\n",
        "               h6=nc, h7=nc, h8=nc, h9=nc, #h10=nc,\n",
        "               #h11=nc, h12=nc, h13=nc, h14=nc, h15=nc,\n",
        "               #bNorm1=34,\n",
        "               out_features=1):\n",
        "    super().__init__() #instantiate nn.Module\n",
        "    #self.bNorm1 = nn.BatchNorm1d(in_features, bNorm1, momentum=0.1)\n",
        "    #self.fc1BNorm = nn.Linear(bNorm1, h1)\n",
        "    self.fc1 = nn.Linear(in_features, h1)\n",
        "    self.fc2 = nn.Linear(h1, h2)\n",
        "    self.fc3 = nn.Linear(h2, h3)\n",
        "    self.fc4 = nn.Linear(h3, h4)\n",
        "    self.fc5 = nn.Linear(h4, h5)\n",
        "    self.fc6 = nn.Linear(h5, h6)\n",
        "    self.fc7 = nn.Linear(h6, h7)\n",
        "    self.fc8 = nn.Linear(h7, h8)\n",
        "    self.fc9 = nn.Linear(h8, h9)\n",
        "    self.dropout = nn.Dropout(p=0.04)\n",
        "    #self.fc10 = nn.Linear(h9, h10)\n",
        "    #self.fc11 = nn.Linear(h10, h11)\n",
        "    #self.fc12 = nn.Linear(h11, h12)\n",
        "    #self.fc13 = nn.Linear(h12, h13)\n",
        "    #self.fc14 = nn.Linear(h13, h14)\n",
        "    #self.fc15 = nn.Linear(h14, h15)\n",
        "    self.out = nn.Linear(h9, out_features)\n",
        "\n",
        "  def forward(self, x):\n",
        "    doDrop = False\n",
        "\n",
        "    #x = F.relu(self.bNorm1(x))\n",
        "    #x = F.relu(self.fc1BNorm(x))\n",
        "    x = F.relu(self.fc1(x))\n",
        "    if doDrop == True:\n",
        "      x = self.dropout(x)\n",
        "\n",
        "    x = F.relu(self.fc2(x))\n",
        "    if doDrop == True:\n",
        "      x = self.dropout(x)\n",
        "\n",
        "    x = F.relu(self.fc3(x))\n",
        "    if doDrop == True:\n",
        "      x = self.dropout(x)\n",
        "\n",
        "    x = F.relu(self.fc4(x))\n",
        "    if doDrop == True:\n",
        "      x = self.dropout(x)\n",
        "\n",
        "    x = F.relu(self.fc5(x))\n",
        "    if doDrop == True:\n",
        "      x = self.dropout(x)\n",
        "\n",
        "    x = F.relu(self.fc6(x))\n",
        "    if doDrop == True:\n",
        "      x = self.dropout(x)\n",
        "\n",
        "    x = F.relu(self.fc7(x))\n",
        "    if doDrop == True:\n",
        "      x = self.dropout(x)\n",
        "\n",
        "    x = F.relu(self.fc8(x))\n",
        "    if doDrop == True:\n",
        "      x = self.dropout(x)\n",
        "\n",
        "    x = F.relu(self.fc9(x))\n",
        "    if doDrop == True:\n",
        "      x = self.dropout(x)\n",
        "\n",
        "    x = self.out(x)\n",
        "\n",
        "    return x\n",
        "\n",
        "  def check(self, x):\n",
        "    x = F.relu(self.fc1(x))\n",
        "    x = F.relu(self.fc2(x))\n",
        "    x = F.relu(self.fc3(x))\n",
        "    x = F.relu(self.fc4(x))\n",
        "    x = F.relu(self.fc5(x))\n",
        "    x = F.relu(self.fc6(x))\n",
        "    x = F.relu(self.fc7(x))\n",
        "    x = F.relu(self.fc8(x))\n",
        "    x = F.relu(self.fc9(x))\n",
        "    x = self.out(x)\n",
        "    return x\n",
        "\n",
        "\n",
        "# Set random seed\n",
        "torch.manual_seed(1337)\n",
        "\n",
        "# Instantiate model\n",
        "model = Model()"
      ],
      "metadata": {
        "id": "T9Kpg_j4ZwLi"
      },
      "execution_count": null,
      "outputs": []
    },
    {
      "cell_type": "markdown",
      "source": [
        "Prepare Data"
      ],
      "metadata": {
        "id": "e9ZuofXQ0t8e"
      }
    },
    {
      "cell_type": "code",
      "source": [
        "# fetch dataset\n",
        "ionosphere = fetch_ucirepo(id=52)\n",
        "\n",
        "# data (as pandas dataframes)\n",
        "X = ionosphere.data.features\n",
        "y = ionosphere.data.targets\n",
        "\n",
        "\n",
        "# Preprocess data\n",
        "  # Change values {g, b} in y to {1.0, 0.0}\n",
        "\n",
        "y['Class'] = y['Class'].replace('g', 1.0)\n",
        "y['Class'] = y['Class'].replace('b', 0.0)\n",
        "\n",
        "# Convert to numpy arrays\n",
        "X = X.values\n",
        "y = y.values\n",
        "\n",
        "# Train-Test Split\n",
        "X_train, X_test, y_train, y_test = train_test_split(X, y, test_size=0.2, random_state=1337)\n",
        "\n",
        "# Convert X features to float tensors\n",
        "X_train = torch.FloatTensor(X_train)\n",
        "X_test = torch.FloatTensor(X_test)\n",
        "\n",
        "# Convert y labels to tensors float\n",
        "y_train = torch.FloatTensor(y_train)\n",
        "y_test = torch.FloatTensor(y_test)"
      ],
      "metadata": {
        "id": "WZIjqSO0DTfo",
        "colab": {
          "base_uri": "https://localhost:8080/"
        },
        "outputId": "7f56b9dd-04dd-4df1-9117-8452fcd5a8fe"
      },
      "execution_count": null,
      "outputs": [
        {
          "output_type": "stream",
          "name": "stderr",
          "text": [
            "<ipython-input-27-7b690f8d1f9d>:12: SettingWithCopyWarning: \n",
            "A value is trying to be set on a copy of a slice from a DataFrame.\n",
            "Try using .loc[row_indexer,col_indexer] = value instead\n",
            "\n",
            "See the caveats in the documentation: https://pandas.pydata.org/pandas-docs/stable/user_guide/indexing.html#returning-a-view-versus-a-copy\n",
            "  y['Class'] = y['Class'].replace('g', 1.0)\n",
            "<ipython-input-27-7b690f8d1f9d>:13: SettingWithCopyWarning: \n",
            "A value is trying to be set on a copy of a slice from a DataFrame.\n",
            "Try using .loc[row_indexer,col_indexer] = value instead\n",
            "\n",
            "See the caveats in the documentation: https://pandas.pydata.org/pandas-docs/stable/user_guide/indexing.html#returning-a-view-versus-a-copy\n",
            "  y['Class'] = y['Class'].replace('b', 0.0)\n"
          ]
        }
      ]
    },
    {
      "cell_type": "markdown",
      "source": [
        "Train Classification model"
      ],
      "metadata": {
        "id": "gJ-_gzhh5qYI"
      }
    },
    {
      "cell_type": "code",
      "source": [
        "# Train model\n",
        "\n",
        "# Error Criteria\n",
        "criterion = nn.BCEWithLogitsLoss()\n",
        "\n",
        "# Choose Optimizer, learning rate\n",
        "optimizer = torch.optim.Adam(model.parameters(), lr=0.00003)    #Adam showed superior performance to AdamW\n",
        "#optimizer = torch.optim.AdamW(model.parameters(), lr=0.00005)\n",
        "\n",
        "# Set Epochs\n",
        "epochs = 2100\n",
        "losses = []\n",
        "testLosses = []\n",
        "\n",
        "y_pred = model.forward(X_train)\n",
        "#print(y_pred)\n",
        "#print(y_train.shape)\n",
        "#print(y_pred.shape)\n",
        "#loss = criterion(y_pred, y_train)\n",
        "#print(f'Epoch: 1 with loss: {loss}')\n",
        "\n",
        "\n",
        "for i in range(epochs):\n",
        "  # Forward propagate\n",
        "  y_pred = model.forward(X_train)\n",
        "\n",
        "  # Determine loss\n",
        "  loss = criterion(y_pred, y_train)\n",
        "\n",
        "  # Track loss\n",
        "  losses.append(loss.detach().numpy())\n",
        "\n",
        "  # Print status every so often\n",
        "  if i%(epochs/20) == 0 or i==epochs-1:\n",
        "    print(f'Epoch: {i+1} with loss: {loss:0.5f}', end='')\n",
        "\n",
        "  # Backpropagate\n",
        "  optimizer.zero_grad()\n",
        "  loss.backward()\n",
        "  optimizer.step()\n",
        "\n",
        "  # Evaluate vs test\n",
        "  model.eval()\n",
        "  with torch.no_grad():\n",
        "    y_eval = model.check(X_test)\n",
        "    loss = criterion(y_eval, y_test)\n",
        "    testLosses.append(loss.detach().numpy())\n",
        "  model.train()\n",
        "\n",
        "  if i%(epochs/20) == 0 or i==epochs-1:\n",
        "    print(f'\\t\\ttest loss: {loss}')"
      ],
      "metadata": {
        "colab": {
          "base_uri": "https://localhost:8080/"
        },
        "id": "FAm9Qk4jqyNd",
        "outputId": "0177c438-9040-48bf-dbdd-b15f7f21e036"
      },
      "execution_count": null,
      "outputs": [
        {
          "output_type": "stream",
          "name": "stdout",
          "text": [
            "Epoch: 1 with loss: 0.70362\t\ttest loss: 0.6975442171096802\n",
            "Epoch: 106 with loss: 0.69806\t\ttest loss: 0.6951154470443726\n",
            "Epoch: 211 with loss: 0.69293\t\ttest loss: 0.6929789185523987\n",
            "Epoch: 316 with loss: 0.68760\t\ttest loss: 0.6908019185066223\n",
            "Epoch: 421 with loss: 0.68152\t\ttest loss: 0.6874755620956421\n",
            "Epoch: 526 with loss: 0.66350\t\ttest loss: 0.6726000308990479\n",
            "Epoch: 631 with loss: 0.56951\t\ttest loss: 0.5921645760536194\n",
            "Epoch: 736 with loss: 0.31383\t\ttest loss: 0.3827502429485321\n",
            "Epoch: 841 with loss: 0.13906\t\ttest loss: 0.2237280160188675\n",
            "Epoch: 946 with loss: 0.06510\t\ttest loss: 0.1520424634218216\n",
            "Epoch: 1051 with loss: 0.04173\t\ttest loss: 0.132623553276062\n",
            "Epoch: 1156 with loss: 0.03204\t\ttest loss: 0.11669768393039703\n",
            "Epoch: 1261 with loss: 0.02683\t\ttest loss: 0.10037513077259064\n",
            "Epoch: 1366 with loss: 0.02330\t\ttest loss: 0.08185882866382599\n",
            "Epoch: 1471 with loss: 0.01899\t\ttest loss: 0.05579134449362755\n",
            "Epoch: 1576 with loss: 0.01403\t\ttest loss: 0.0420365147292614\n",
            "Epoch: 1681 with loss: 0.00948\t\ttest loss: 0.03958437591791153\n",
            "Epoch: 1786 with loss: 0.00594\t\ttest loss: 0.04172119125723839\n",
            "Epoch: 1891 with loss: 0.00363\t\ttest loss: 0.04327664151787758\n",
            "Epoch: 1996 with loss: 0.00228\t\ttest loss: 0.039193231612443924\n",
            "Epoch: 2100 with loss: 0.00150\t\ttest loss: 0.0342334620654583\n"
          ]
        }
      ]
    },
    {
      "cell_type": "markdown",
      "source": [
        "Plot loss across epochs"
      ],
      "metadata": {
        "id": "yL7UddcGxC_a"
      }
    },
    {
      "cell_type": "code",
      "source": [
        "#Plot training data\n",
        "plt.plot(range(epochs), losses)\n",
        "plt.title(\"Training Loss\")\n",
        "plt.ylabel(\"loss\")\n",
        "plt.xlabel(\"epoch\")"
      ],
      "metadata": {
        "colab": {
          "base_uri": "https://localhost:8080/",
          "height": 489
        },
        "id": "8fOFLSVO4QWZ",
        "outputId": "14633cc8-c412-4578-b7e7-1bda85bfc879"
      },
      "execution_count": null,
      "outputs": [
        {
          "output_type": "execute_result",
          "data": {
            "text/plain": [
              "Text(0.5, 0, 'epoch')"
            ]
          },
          "metadata": {},
          "execution_count": 29
        },
        {
          "output_type": "display_data",
          "data": {
            "text/plain": [
              "<Figure size 640x480 with 1 Axes>"
            ],
            "image/png": "[encoded data removed]"
          },
          "metadata": {}
        }
      ]
    },
    {
      "cell_type": "code",
      "source": [
        "#Plot testing data\n",
        "plt.plot(range(epochs), testLosses)\n",
        "plt.title(\"Test Loss\")\n",
        "plt.ylabel(\"loss\")\n",
        "plt.xlabel(\"epoch\")"
      ],
      "metadata": {
        "colab": {
          "base_uri": "https://localhost:8080/",
          "height": 489
        },
        "id": "MKcyHLEuN5T9",
        "outputId": "5f7f8998-adf7-4282-dfac-c9bb31713857"
      },
      "execution_count": null,
      "outputs": [
        {
          "output_type": "execute_result",
          "data": {
            "text/plain": [
              "Text(0.5, 0, 'epoch')"
            ]
          },
          "metadata": {},
          "execution_count": 30
        },
        {
          "output_type": "display_data",
          "data": {
            "text/plain": [
              "<Figure size 640x480 with 1 Axes>"
            ],
            "image/png": "[encoded data removed]"
          },
          "metadata": {}
        }
      ]
    },
    {
      "cell_type": "markdown",
      "source": [
        "The following section generates a table of the model's performance on the test set.\n",
        "\n",
        "What we really care about is if the sign of the result (+/-) matches the expected sign."
      ],
      "metadata": {
        "id": "C4mOhT5PxNBA"
      }
    },
    {
      "cell_type": "code",
      "source": [
        "correct = 0\n",
        "with torch.no_grad():\n",
        "  print(f'\\tRESULT\\t Expected  isCorrect?\\n')\n",
        "  isCorrect = ''\n",
        "  expected = ''\n",
        "  #print(f\" value is {y_val.item()}\")\n",
        "\n",
        "  for i, data in enumerate(X_test):\n",
        "    y_val = model.forward(data)\n",
        "\n",
        "    if (y_val.item() >=0 and y_test[i].item() > 0.5) or (y_val.item() <0 and y_test[i].item() < 0.5):\n",
        "      isCorrect = 'y'\n",
        "\n",
        "    else:\n",
        "      isCorrect = 'NO'\n",
        "      expected = '-'\n",
        "\n",
        "    if (y_test[i].item() > 0.5):\n",
        "      expected = '+'\n",
        "\n",
        "    else:\n",
        "      expected = '-'\n",
        "\n",
        "    # Print results\n",
        "    #print(f'{i+1}. {y_val.item():0.2f} \\t {y_test[i].item()} \\t {isCorrect}')\n",
        "    print(f'{i+1}.\\t{y_val.item():0.2f}\\t    {expected}\\t   {isCorrect}')\n"
      ],
      "metadata": {
        "colab": {
          "base_uri": "https://localhost:8080/"
        },
        "id": "aBZZ9GRQ5sdz",
        "outputId": "4661a641-750b-44a9-9c62-56a282539cd0"
      },
      "execution_count": null,
      "outputs": [
        {
          "output_type": "stream",
          "name": "stdout",
          "text": [
            "\tRESULT\t Expected  isCorrect?\n",
            "\n",
            "1.\t10.29\t    +\t   y\n",
            "2.\t-4.71\t    -\t   y\n",
            "3.\t7.55\t    +\t   y\n",
            "4.\t8.55\t    +\t   y\n",
            "5.\t8.09\t    +\t   y\n",
            "6.\t5.80\t    +\t   y\n",
            "7.\t-14.53\t    -\t   y\n",
            "8.\t10.84\t    +\t   y\n",
            "9.\t-13.24\t    -\t   y\n",
            "10.\t10.53\t    +\t   y\n",
            "11.\t8.75\t    +\t   y\n",
            "12.\t7.03\t    +\t   y\n",
            "13.\t-9.25\t    -\t   y\n",
            "14.\t-12.51\t    -\t   y\n",
            "15.\t-13.92\t    -\t   y\n",
            "16.\t-12.22\t    -\t   y\n",
            "17.\t13.84\t    +\t   y\n",
            "18.\t-10.88\t    -\t   y\n",
            "19.\t8.48\t    +\t   y\n",
            "20.\t10.30\t    +\t   y\n",
            "21.\t13.02\t    +\t   y\n",
            "22.\t10.30\t    +\t   y\n",
            "23.\t10.41\t    +\t   y\n",
            "24.\t-9.37\t    -\t   y\n",
            "25.\t12.58\t    +\t   y\n",
            "26.\t10.26\t    +\t   y\n",
            "27.\t-4.88\t    -\t   y\n",
            "28.\t4.40\t    +\t   y\n",
            "29.\t8.26\t    +\t   y\n",
            "30.\t-9.16\t    -\t   y\n",
            "31.\t11.35\t    +\t   y\n",
            "32.\t-10.58\t    -\t   y\n",
            "33.\t7.55\t    +\t   y\n",
            "34.\t-11.35\t    -\t   y\n",
            "35.\t-15.48\t    -\t   y\n",
            "36.\t-16.36\t    -\t   y\n",
            "37.\t11.77\t    +\t   y\n",
            "38.\t11.55\t    +\t   y\n",
            "39.\t-0.84\t    +\t   NO\n",
            "40.\t-15.56\t    -\t   y\n",
            "41.\t12.50\t    +\t   y\n",
            "42.\t10.52\t    +\t   y\n",
            "43.\t6.18\t    +\t   y\n",
            "44.\t11.90\t    +\t   y\n",
            "45.\t10.76\t    +\t   y\n",
            "46.\t-11.50\t    -\t   y\n",
            "47.\t-14.95\t    -\t   y\n",
            "48.\t-7.66\t    -\t   y\n",
            "49.\t-8.04\t    -\t   y\n",
            "50.\t5.12\t    +\t   y\n",
            "51.\t-11.16\t    -\t   y\n",
            "52.\t8.60\t    +\t   y\n",
            "53.\t-0.79\t    +\t   NO\n",
            "54.\t-8.37\t    -\t   y\n",
            "55.\t-6.76\t    -\t   y\n",
            "56.\t-7.30\t    -\t   y\n",
            "57.\t-8.45\t    -\t   y\n",
            "58.\t13.85\t    +\t   y\n",
            "59.\t9.65\t    +\t   y\n",
            "60.\t5.36\t    +\t   y\n",
            "61.\t10.44\t    +\t   y\n",
            "62.\t-10.46\t    -\t   y\n",
            "63.\t7.16\t    +\t   y\n",
            "64.\t11.52\t    +\t   y\n",
            "65.\t10.66\t    +\t   y\n",
            "66.\t-9.69\t    -\t   y\n",
            "67.\t-12.15\t    -\t   y\n",
            "68.\t-10.15\t    -\t   y\n",
            "69.\t-4.15\t    -\t   y\n",
            "70.\t-7.28\t    -\t   y\n",
            "71.\t11.32\t    +\t   y\n"
          ]
        }
      ]
    },
    {
      "cell_type": "markdown",
      "source": [
        "#Contributions\n",
        "Jenny Zhao: 25%<br/><br/>\n",
        "Abhinav Singh: 25%<br/><br/>\n",
        "Shayan Darian: 25%<br/><br/>\n",
        "Jeffrey Rhoten: 25%"
      ],
      "metadata": {
        "id": "0-1-_e84xRZi"
      }
    }
  ]
}